{
  "nbformat": 4,
  "nbformat_minor": 0,
  "metadata": {
    "orig_nbformat": 2,
    "deepnote": {
      "is_reactive": false
    },
    "deepnote_notebook_id": "954dd429-e7d3-4360-ae14-ef290c6c0c3e",
    "deepnote_execution_queue": [],
    "colab": {
      "name": "KNN_XGB_KMeans_sampling___common_code.ipynb",
      "provenance": []
    },
    "language_info": {
      "name": "python"
    },
    "kernelspec": {
      "name": "python3",
      "display_name": "Python 3"
    },
    "accelerator": "GPU"
  },
  "cells": [
    {
      "cell_type": "code",
      "metadata": {
        "tags": [],
        "deepnote_to_be_reexecuted": false,
        "source_hash": "b448a609",
        "execution_start": 1637427466757,
        "execution_millis": 2504,
        "cell_id": "00000-1f5957b6-175a-43fb-bee1-f5ca30c4fe41",
        "deepnote_cell_type": "code",
        "id": "f061glnXAN9T"
      },
      "source": [
        "import numpy as np\n",
        "import pandas as pd\n",
        "import matplotlib \n",
        "import seaborn as sns\n",
        "from sklearn.preprocessing import MinMaxScaler, normalize\n",
        "from imblearn.under_sampling import RandomUnderSampler\n",
        "from imblearn.over_sampling import RandomOverSampler\n",
        "from matplotlib import pyplot as plt\n",
        "from sklearn import tree\n",
        "from sklearn.model_selection import train_test_split\n",
        "from sklearn.neighbors import KNeighborsClassifier\n",
        "from sklearn.metrics import confusion_matrix\n",
        "from sklearn.metrics import accuracy_score\n",
        "from sklearn.metrics import classification_report\n",
        "\n",
        "from xgboost import XGBClassifier\n",
        "from sklearn.cluster import KMeans\n",
        "\n",
        "data_set='drive/MyDrive/Colab Notebooks/creditcard.csv'"
      ],
      "execution_count": null,
      "outputs": []
    },
    {
      "cell_type": "code",
      "metadata": {
        "tags": [],
        "cell_id": "00001-7ae93a6b-0e4b-4562-848b-b2848e97208e",
        "deepnote_to_be_reexecuted": false,
        "source_hash": "6443c31b",
        "execution_start": 1637427471129,
        "execution_millis": 10,
        "deepnote_cell_type": "code",
        "id": "pYZBKVEiAN9X"
      },
      "source": [
        "def dataset_summary(train_X, test_X, train_y, test_y):\n",
        "    \n",
        "    print()\n",
        "    print(\"---------Dataset Summary----------\")\n",
        "    print(\"Total training samples:\", len(train_X))\n",
        "    print(\"Total training samples corresponding to class 0:\", len(train_y[train_y[:]==0]))\n",
        "    print(\"Total training samples corresponding to class 1:\", len(train_y[train_y[:]==1]))\n",
        "    print()\n",
        "    print(\"Total testing samples:\", len(test_X))\n",
        "    print(\"Total testing samples corresponding to class 0:\", len(test_y[test_y[:]==0]))\n",
        "    print(\"Total testing samples corresponding to class 1:\", len(test_y[test_y[:]==1]))\n",
        "    print(\"----------------------------------\")\n",
        "    print()"
      ],
      "execution_count": null,
      "outputs": []
    },
    {
      "cell_type": "code",
      "metadata": {
        "id": "dkoCaJne_WYE"
      },
      "source": [
        "def oversampling(X, y):\n",
        "    oversample = RandomOverSampler(sampling_strategy='minority')\n",
        "    X_over, y_over = oversample.fit_resample(X, y)\n",
        "    return X_over, y_over"
      ],
      "execution_count": null,
      "outputs": []
    },
    {
      "cell_type": "code",
      "metadata": {
        "id": "_CdMVRZZ-Dfq"
      },
      "source": [
        "def undersampling(X, y):\n",
        "    undersample = RandomUnderSampler(sampling_strategy='majority')\n",
        "    X_under, y_under = undersample.fit_resample(X, y)\n",
        "    return X_under, y_under"
      ],
      "execution_count": null,
      "outputs": []
    },
    {
      "cell_type": "code",
      "metadata": {
        "tags": [],
        "deepnote_to_be_reexecuted": false,
        "source_hash": "2ec2eed6",
        "execution_start": 1637427474742,
        "execution_millis": 8,
        "cell_id": "00001-921c5962-df4a-4c6a-bd97-2223aca7c5df",
        "deepnote_cell_type": "code",
        "id": "Jlv_kg06AN9b"
      },
      "source": [
        "#importing the data\n",
        "\n",
        "def read_dataset(csv_file_path,isOverSampling=False,isUnderSampling=False, isScaling=False ,test_size=0.2, random_state=100):\n",
        "    df = pd.read_csv(csv_file_path)\n",
        "    df = df.drop(['Amount','Time'], axis=1)\n",
        "    \n",
        "    y = df['Class']\n",
        "    X = df.drop(['Class'], axis=1)\n",
        "    \n",
        "    if isOverSampling:\n",
        "        print(\"With over Sampling\")\n",
        "        X,y=oversampling(X,y)\n",
        "    elif isUnderSampling:\n",
        "        X,y=undersampling(X,y)\n",
        "        print(\"With under Sampling\")\n",
        "    else:\n",
        "        print(\"Without Sampling\")\n",
        "    \n",
        "    #random state is for reproducing the same training and testing set,if we do not use this then\n",
        "    #every time it will give different sets\n",
        "\n",
        "    #spliting the data set into training and testing set\n",
        "    train_X, test_X, train_y, test_y = train_test_split(X, y, test_size = test_size, random_state=random_state)\n",
        "    \n",
        "    if isScaling:\n",
        "        print(\"MinMax Scalling is done\")\n",
        "        #MinMax scaling\n",
        "        scaler = MinMaxScaler()\n",
        "        train_X = scaler.fit_transform(train_X)\n",
        "        test_X = scaler.transform(test_X)\n",
        "    \n",
        "    return train_X, test_X, train_y, test_y"
      ],
      "execution_count": null,
      "outputs": []
    },
    {
      "cell_type": "code",
      "metadata": {
        "tags": [],
        "deepnote_to_be_reexecuted": false,
        "source_hash": "5fbe2c96",
        "execution_start": 1637427476850,
        "execution_millis": 2,
        "cell_id": "00002-b0451c76-833a-4098-81a9-4c3b9a02b6e5",
        "deepnote_cell_type": "code",
        "id": "yVwSpjzyAN9d"
      },
      "source": [
        "def classifier(X_train,Y_train,X_test,cat=\"entropy\"):\n",
        "    clf = KNeighborsClassifier()\n",
        "    clf.fit(X_train,Y_train)\n",
        "    y_pred=clf.predict(X_test)\n",
        "    return y_pred"
      ],
      "execution_count": null,
      "outputs": []
    },
    {
      "cell_type": "code",
      "metadata": {
        "id": "O-HNlma2msjR"
      },
      "source": [
        "def classifier_xgboost(X_train,Y_train,X_test,cat=\"entropy\"):\n",
        "    clf = XGBClassifier(n_estimators=5000, learning_rate=0.01, subsample=0.8, max_depth=15, colsample_bytree=0.8, tree_method='gpu_hist')\n",
        "    clf.fit(X_train,Y_train)\n",
        "    y_pred=clf.predict(X_test)\n",
        "    return y_pred"
      ],
      "execution_count": null,
      "outputs": []
    },
    {
      "cell_type": "code",
      "metadata": {
        "id": "p8UVCQmRs_xE"
      },
      "source": [
        "def classifier_KMeansClustering(X_train, Y_train, X_test):\n",
        "    X_train = normalize(X_train)\n",
        "    X_test = normalize(X_test)\n",
        "    kmeans = KMeans(n_clusters=2, random_state=0, algorithm=\"full\", max_iter=10000)\n",
        "    kmeans.fit(X_train)\n",
        "    kmeans_predicted_cluster_for_train = kmeans.predict(X_train)\n",
        "    tn, fp, fn, tp = confusion_matrix(Y_train, kmeans_predicted_cluster_for_train).ravel()\n",
        "    reversed_cluster = False\n",
        "    if tn+tp<fn+fp:\n",
        "        reversed_cluster = True\n",
        "    kmeans_predicted_cluster_for_test = kmeans.predict(X_test)\n",
        "    if reversed_cluster:\n",
        "        kmeans_predicted_cluster_for_test = 1 - kmeans_predicted_cluster_for_test\n",
        "    return kmeans_predicted_cluster_for_test\n"
      ],
      "execution_count": null,
      "outputs": []
    },
    {
      "cell_type": "code",
      "metadata": {
        "tags": [],
        "deepnote_to_be_reexecuted": false,
        "source_hash": "91b29fde",
        "execution_start": 1636202755431,
        "execution_millis": 7,
        "cell_id": "00005-a9ceda3d-76de-456f-a66c-4e103a877cbf",
        "deepnote_cell_type": "code",
        "id": "pH4XJETpAN9i"
      },
      "source": [
        "def evaluate(Y_test,y_predict):\n",
        "    conf_matrix = confusion_matrix(Y_test,y_predict)\n",
        "    print(\"Confusion Matrix\",)\n",
        "    print (\"Accuracy : \",accuracy_score(Y_test,y_predict)*100)\n",
        "    print(\"Report : \",classification_report(Y_test,y_predict))\n",
        "    \n",
        "    sns.heatmap(conf_matrix, annot=True, fmt='g')"
      ],
      "execution_count": null,
      "outputs": []
    },
    {
      "cell_type": "markdown",
      "metadata": {
        "id": "cGy4pjpk84oy"
      },
      "source": [
        "KNN"
      ]
    },
    {
      "cell_type": "code",
      "metadata": {
        "tags": [],
        "cell_id": "00006-8eb616b4-5ae8-423f-9ca1-f0b61b0bf613",
        "deepnote_to_be_reexecuted": false,
        "source_hash": "aa261bb",
        "execution_start": 1636202990903,
        "execution_millis": 116460,
        "deepnote_cell_type": "code",
        "id": "oxUtBkMBAN9l",
        "colab": {
          "base_uri": "https://localhost:8080/",
          "height": 656
        },
        "outputId": "d9b5701f-19f4-4a25-b144-7dac93ee6d55"
      },
      "source": [
        "train_X, test_X, train_y, test_y = read_dataset(data_set,False, False)\n",
        "dataset_summary(train_X, test_X, train_y, test_y)\n",
        "\n",
        "y_predict=classifier(train_X,train_y,test_X)\n",
        "evaluate(test_y,y_predict)"
      ],
      "execution_count": null,
      "outputs": [
        {
          "output_type": "stream",
          "name": "stdout",
          "text": [
            "Without Sampling\n",
            "\n",
            "---------Dataset Summary----------\n",
            "Total training samples: 227845\n",
            "Total training samples corresponding to class 0: 227449\n",
            "Total training samples corresponding to class 1: 396\n",
            "\n",
            "Total testing samples: 56962\n",
            "Total testing samples corresponding to class 0: 56866\n",
            "Total testing samples corresponding to class 1: 96\n",
            "----------------------------------\n",
            "\n",
            "Confusion Matrix\n",
            "Accuracy :  99.92451107756047\n",
            "Report :                precision    recall  f1-score   support\n",
            "\n",
            "           0       1.00      1.00      1.00     56866\n",
            "           1       0.80      0.73      0.77        96\n",
            "\n",
            "    accuracy                           1.00     56962\n",
            "   macro avg       0.90      0.86      0.88     56962\n",
            "weighted avg       1.00      1.00      1.00     56962\n",
            "\n"
          ]
        },
        {
          "output_type": "display_data",
          "data": {
            "image/png": "[encoded data removed]",
            "text/plain": [
              "<Figure size 432x288 with 2 Axes>"
            ]
          },
          "metadata": {
            "needs_background": "light"
          }
        }
      ]
    },
    {
      "cell_type": "code",
      "metadata": {
        "colab": {
          "base_uri": "https://localhost:8080/",
          "height": 656
        },
        "id": "uyEsKo0NMu7q",
        "outputId": "a3ae9f9e-fffb-4d82-92b4-d81f7574883f"
      },
      "source": [
        "train_X, test_X, train_y, test_y = read_dataset(data_set,False, True)\n",
        "dataset_summary(train_X, test_X, train_y, test_y)\n",
        "\n",
        "y_predict=classifier(train_X,train_y,test_X)\n",
        "evaluate(test_y,y_predict)"
      ],
      "execution_count": null,
      "outputs": [
        {
          "output_type": "stream",
          "name": "stdout",
          "text": [
            "With under Sampling\n",
            "\n",
            "---------Dataset Summary----------\n",
            "Total training samples: 787\n",
            "Total training samples corresponding to class 0: 386\n",
            "Total training samples corresponding to class 1: 401\n",
            "\n",
            "Total testing samples: 197\n",
            "Total testing samples corresponding to class 0: 106\n",
            "Total testing samples corresponding to class 1: 91\n",
            "----------------------------------\n",
            "\n",
            "Confusion Matrix\n",
            "Accuracy :  94.41624365482234\n",
            "Report :                precision    recall  f1-score   support\n",
            "\n",
            "           0       0.91      0.99      0.95       106\n",
            "           1       0.99      0.89      0.94        91\n",
            "\n",
            "    accuracy                           0.94       197\n",
            "   macro avg       0.95      0.94      0.94       197\n",
            "weighted avg       0.95      0.94      0.94       197\n",
            "\n"
          ]
        },
        {
          "output_type": "display_data",
          "data": {
            "image/png": "[encoded data removed]",
            "text/plain": [
              "<Figure size 432x288 with 2 Axes>"
            ]
          },
          "metadata": {
            "needs_background": "light"
          }
        }
      ]
    },
    {
      "cell_type": "code",
      "metadata": {
        "colab": {
          "base_uri": "https://localhost:8080/",
          "height": 656
        },
        "id": "D1yFnPaUB41x",
        "outputId": "c2144444-9d14-4509-b284-7a60f0da21a2"
      },
      "source": [
        "train_X, test_X, train_y, test_y = read_dataset(data_set,True, False)\n",
        "dataset_summary(train_X, test_X, train_y, test_y)\n",
        "\n",
        "y_predict=classifier(train_X,train_y,test_X)\n",
        "evaluate(test_y,y_predict)\n"
      ],
      "execution_count": null,
      "outputs": [
        {
          "output_type": "stream",
          "name": "stdout",
          "text": [
            "With over Sampling\n",
            "\n",
            "---------Dataset Summary----------\n",
            "Total training samples: 454904\n",
            "Total training samples corresponding to class 0: 227735\n",
            "Total training samples corresponding to class 1: 227169\n",
            "\n",
            "Total testing samples: 113726\n",
            "Total testing samples corresponding to class 0: 56580\n",
            "Total testing samples corresponding to class 1: 57146\n",
            "----------------------------------\n",
            "\n",
            "Confusion Matrix\n",
            "Accuracy :  99.95603467984454\n",
            "Report :                precision    recall  f1-score   support\n",
            "\n",
            "           0       1.00      1.00      1.00     56580\n",
            "           1       1.00      1.00      1.00     57146\n",
            "\n",
            "    accuracy                           1.00    113726\n",
            "   macro avg       1.00      1.00      1.00    113726\n",
            "weighted avg       1.00      1.00      1.00    113726\n",
            "\n"
          ]
        },
        {
          "output_type": "display_data",
          "data": {
            "image/png": "[encoded data removed]",
            "text/plain": [
              "<Figure size 432x288 with 2 Axes>"
            ]
          },
          "metadata": {
            "needs_background": "light"
          }
        }
      ]
    },
    {
      "cell_type": "markdown",
      "metadata": {
        "id": "Wv8yusJSoLi9"
      },
      "source": [
        "XGB"
      ]
    },
    {
      "cell_type": "code",
      "metadata": {
        "colab": {
          "base_uri": "https://localhost:8080/",
          "height": 656
        },
        "id": "kgb87el6oJmY",
        "outputId": "836bd071-37a3-4655-9a44-e13d1c907869"
      },
      "source": [
        "train_X, test_X, train_y, test_y = read_dataset(data_set,False, False)\n",
        "dataset_summary(train_X, test_X, train_y, test_y)\n",
        "\n",
        "y_predict=classifier_xgboost(train_X,train_y,test_X)\n",
        "evaluate(test_y,y_predict)\n"
      ],
      "execution_count": null,
      "outputs": [
        {
          "output_type": "stream",
          "name": "stdout",
          "text": [
            "Without Sampling\n",
            "\n",
            "---------Dataset Summary----------\n",
            "Total training samples: 227845\n",
            "Total training samples corresponding to class 0: 227449\n",
            "Total training samples corresponding to class 1: 396\n",
            "\n",
            "Total testing samples: 56962\n",
            "Total testing samples corresponding to class 0: 56866\n",
            "Total testing samples corresponding to class 1: 96\n",
            "----------------------------------\n",
            "\n",
            "Confusion Matrix\n",
            "Accuracy :  99.9420666409185\n",
            "Report :                precision    recall  f1-score   support\n",
            "\n",
            "           0       1.00      1.00      1.00     56866\n",
            "           1       0.91      0.73      0.81        96\n",
            "\n",
            "    accuracy                           1.00     56962\n",
            "   macro avg       0.95      0.86      0.90     56962\n",
            "weighted avg       1.00      1.00      1.00     56962\n",
            "\n"
          ]
        },
        {
          "output_type": "display_data",
          "data": {
            "image/png": "[encoded data removed]",
            "text/plain": [
              "<Figure size 432x288 with 2 Axes>"
            ]
          },
          "metadata": {
            "needs_background": "light"
          }
        }
      ]
    },
    {
      "cell_type": "code",
      "metadata": {
        "colab": {
          "base_uri": "https://localhost:8080/",
          "height": 656
        },
        "id": "ObSF4IDCoTr4",
        "outputId": "6a1b4820-54a3-4762-b934-e019781978ff"
      },
      "source": [
        "train_X, test_X, train_y, test_y = read_dataset(data_set,False, True)\n",
        "dataset_summary(train_X, test_X, train_y, test_y)\n",
        "\n",
        "y_predict=classifier_xgboost(train_X,train_y,test_X)\n",
        "evaluate(test_y,y_predict)\n"
      ],
      "execution_count": null,
      "outputs": [
        {
          "output_type": "stream",
          "name": "stdout",
          "text": [
            "With under Sampling\n",
            "\n",
            "---------Dataset Summary----------\n",
            "Total training samples: 787\n",
            "Total training samples corresponding to class 0: 386\n",
            "Total training samples corresponding to class 1: 401\n",
            "\n",
            "Total testing samples: 197\n",
            "Total testing samples corresponding to class 0: 106\n",
            "Total testing samples corresponding to class 1: 91\n",
            "----------------------------------\n",
            "\n",
            "Confusion Matrix\n",
            "Accuracy :  91.87817258883248\n",
            "Report :                precision    recall  f1-score   support\n",
            "\n",
            "           0       0.92      0.92      0.92       106\n",
            "           1       0.91      0.91      0.91        91\n",
            "\n",
            "    accuracy                           0.92       197\n",
            "   macro avg       0.92      0.92      0.92       197\n",
            "weighted avg       0.92      0.92      0.92       197\n",
            "\n"
          ]
        },
        {
          "output_type": "display_data",
          "data": {
            "image/png": "[encoded data removed]",
            "text/plain": [
              "<Figure size 432x288 with 2 Axes>"
            ]
          },
          "metadata": {
            "needs_background": "light"
          }
        }
      ]
    },
    {
      "cell_type": "code",
      "metadata": {
        "colab": {
          "base_uri": "https://localhost:8080/",
          "height": 656
        },
        "id": "FXIP3pz_CHiW",
        "outputId": "53754a5f-b892-4535-a8a7-df4a17f0e790"
      },
      "source": [
        "train_X, test_X, train_y, test_y = read_dataset(data_set,True, False)\n",
        "dataset_summary(train_X, test_X, train_y, test_y)\n",
        "\n",
        "y_predict=classifier_xgboost(train_X,train_y,test_X)\n",
        "evaluate(test_y,y_predict)\n"
      ],
      "execution_count": null,
      "outputs": [
        {
          "output_type": "stream",
          "name": "stdout",
          "text": [
            "With over Sampling\n",
            "\n",
            "---------Dataset Summary----------\n",
            "Total training samples: 454904\n",
            "Total training samples corresponding to class 0: 227735\n",
            "Total training samples corresponding to class 1: 227169\n",
            "\n",
            "Total testing samples: 113726\n",
            "Total testing samples corresponding to class 0: 56580\n",
            "Total testing samples corresponding to class 1: 57146\n",
            "----------------------------------\n",
            "\n",
            "Confusion Matrix\n",
            "Accuracy :  99.9903276295658\n",
            "Report :                precision    recall  f1-score   support\n",
            "\n",
            "           0       1.00      1.00      1.00     56580\n",
            "           1       1.00      1.00      1.00     57146\n",
            "\n",
            "    accuracy                           1.00    113726\n",
            "   macro avg       1.00      1.00      1.00    113726\n",
            "weighted avg       1.00      1.00      1.00    113726\n",
            "\n"
          ]
        },
        {
          "output_type": "display_data",
          "data": {
            "image/png": "[encoded data removed]",
            "text/plain": [
              "<Figure size 432x288 with 2 Axes>"
            ]
          },
          "metadata": {
            "needs_background": "light"
          }
        }
      ]
    },
    {
      "cell_type": "markdown",
      "metadata": {
        "id": "cGFRy-Prt31y"
      },
      "source": [
        "KMeans"
      ]
    },
    {
      "cell_type": "code",
      "metadata": {
        "colab": {
          "base_uri": "https://localhost:8080/",
          "height": 660
        },
        "id": "8MOyOuhYoshU",
        "outputId": "d5fb3c54-74d7-420d-a95d-4b2194c5bccf"
      },
      "source": [
        "train_X, test_X, train_y, test_y = read_dataset(data_set,False, False)\n",
        "dataset_summary(train_X, test_X, train_y, test_y)\n",
        "\n",
        "y_predict=classifier_KMeansClustering(train_X,train_y,test_X)\n",
        "evaluate(test_y,y_predict)\n"
      ],
      "execution_count": null,
      "outputs": [
        {
          "output_type": "stream",
          "name": "stdout",
          "text": [
            "Without Sampling\n",
            "\n",
            "---------Dataset Summary----------\n",
            "Total training samples: 227845\n",
            "Total training samples corresponding to class 0: 227449\n",
            "Total training samples corresponding to class 1: 396\n",
            "\n",
            "Total testing samples: 56962\n",
            "Total testing samples corresponding to class 0: 56866\n",
            "Total testing samples corresponding to class 1: 96\n",
            "----------------------------------\n",
            "\n",
            "Confusion Matrix\n",
            "Accuracy :  52.73691232751659\n",
            "Report :                precision    recall  f1-score   support\n",
            "\n",
            "           0       1.00      0.53      0.69     56866\n",
            "           1       0.00      0.16      0.00        96\n",
            "\n",
            "    accuracy                           0.53     56962\n",
            "   macro avg       0.50      0.34      0.35     56962\n",
            "weighted avg       1.00      0.53      0.69     56962\n",
            "\n"
          ]
        },
        {
          "output_type": "display_data",
          "data": {
            "image/png": "[encoded data removed]",
            "text/plain": [
              "<Figure size 432x288 with 2 Axes>"
            ]
          },
          "metadata": {
            "needs_background": "light"
          }
        }
      ]
    },
    {
      "cell_type": "code",
      "metadata": {
        "colab": {
          "base_uri": "https://localhost:8080/",
          "height": 656
        },
        "id": "mNT3Gc6nuG5H",
        "outputId": "293be87b-2994-4b4f-b127-9c893d1dfea0"
      },
      "source": [
        "train_X, test_X, train_y, test_y = read_dataset(data_set,False, True)\n",
        "dataset_summary(train_X, test_X, train_y, test_y)\n",
        "\n",
        "y_predict=classifier_KMeansClustering(train_X,train_y,test_X)\n",
        "evaluate(test_y,y_predict)\n"
      ],
      "execution_count": null,
      "outputs": [
        {
          "output_type": "stream",
          "name": "stdout",
          "text": [
            "With under Sampling\n",
            "\n",
            "---------Dataset Summary----------\n",
            "Total training samples: 787\n",
            "Total training samples corresponding to class 0: 386\n",
            "Total training samples corresponding to class 1: 401\n",
            "\n",
            "Total testing samples: 197\n",
            "Total testing samples corresponding to class 0: 106\n",
            "Total testing samples corresponding to class 1: 91\n",
            "----------------------------------\n",
            "\n",
            "Confusion Matrix\n",
            "Accuracy :  91.37055837563452\n",
            "Report :                precision    recall  f1-score   support\n",
            "\n",
            "           0       0.86      1.00      0.93       106\n",
            "           1       1.00      0.81      0.90        91\n",
            "\n",
            "    accuracy                           0.91       197\n",
            "   macro avg       0.93      0.91      0.91       197\n",
            "weighted avg       0.93      0.91      0.91       197\n",
            "\n"
          ]
        },
        {
          "output_type": "display_data",
          "data": {
            "image/png": "[encoded data removed]",
            "text/plain": [
              "<Figure size 432x288 with 2 Axes>"
            ]
          },
          "metadata": {
            "needs_background": "light"
          }
        }
      ]
    },
    {
      "cell_type": "code",
      "metadata": {
        "colab": {
          "base_uri": "https://localhost:8080/",
          "height": 656
        },
        "id": "ptagr3ARCyjk",
        "outputId": "d04ec2cb-a76d-4a2a-9e97-fa612dada019"
      },
      "source": [
        "train_X, test_X, train_y, test_y = read_dataset(data_set,True, False)\n",
        "dataset_summary(train_X, test_X, train_y, test_y)\n",
        "\n",
        "y_predict=classifier_KMeansClustering(train_X,train_y,test_X)\n",
        "evaluate(test_y,y_predict)\n"
      ],
      "execution_count": null,
      "outputs": [
        {
          "output_type": "stream",
          "name": "stdout",
          "text": [
            "With over Sampling\n",
            "\n",
            "---------Dataset Summary----------\n",
            "Total training samples: 454904\n",
            "Total training samples corresponding to class 0: 227735\n",
            "Total training samples corresponding to class 1: 227169\n",
            "\n",
            "Total testing samples: 113726\n",
            "Total testing samples corresponding to class 0: 56580\n",
            "Total testing samples corresponding to class 1: 57146\n",
            "----------------------------------\n",
            "\n",
            "Confusion Matrix\n",
            "Accuracy :  89.96799324692682\n",
            "Report :                precision    recall  f1-score   support\n",
            "\n",
            "           0       0.83      1.00      0.91     56580\n",
            "           1       1.00      0.80      0.89     57146\n",
            "\n",
            "    accuracy                           0.90    113726\n",
            "   macro avg       0.92      0.90      0.90    113726\n",
            "weighted avg       0.92      0.90      0.90    113726\n",
            "\n"
          ]
        },
        {
          "output_type": "display_data",
          "data": {
            "image/png": "[encoded data removed]",
            "text/plain": [
              "<Figure size 432x288 with 2 Axes>"
            ]
          },
          "metadata": {
            "needs_background": "light"
          }
        }
      ]
    },
    {
      "cell_type": "code",
      "metadata": {
        "id": "-Dg41gHeuJP6"
      },
      "source": [
        ""
      ],
      "execution_count": null,
      "outputs": []
    }
  ]
}