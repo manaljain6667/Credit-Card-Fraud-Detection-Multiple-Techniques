{
 "cells": [
  {
   "cell_type": "code",
   "metadata": {
    "tags": [],
    "deepnote_to_be_reexecuted": false,
    "source_hash": "52379be7",
    "execution_start": 1637749650600,
    "execution_millis": 2431,
    "cell_id": "00000-1f5957b6-175a-43fb-bee1-f5ca30c4fe41",
    "deepnote_cell_type": "code"
   },
   "source": "import numpy as np\nimport pandas as pd\nimport matplotlib \nimport seaborn as sns\nfrom sklearn.preprocessing import MinMaxScaler\nfrom imblearn.over_sampling import RandomOverSampler\nfrom imblearn.under_sampling import RandomUnderSampler\nfrom imblearn.pipeline import Pipeline\nfrom matplotlib import pyplot as plt\nfrom sklearn import tree\nfrom sklearn.model_selection import train_test_split\nfrom sklearn.ensemble  import RandomForestClassifier\nfrom sklearn.metrics import confusion_matrix\nfrom sklearn.metrics import accuracy_score\nfrom sklearn.metrics import classification_report\n\ndata_set='/work/creditcard.csv'",
   "execution_count": null,
   "outputs": []
  },
  {
   "cell_type": "code",
   "metadata": {
    "tags": [],
    "cell_id": "00001-7ae93a6b-0e4b-4562-848b-b2848e97208e",
    "deepnote_to_be_reexecuted": false,
    "source_hash": "6443c31b",
    "execution_start": 1637749654596,
    "execution_millis": 5,
    "deepnote_cell_type": "code"
   },
   "source": "def dataset_summary(train_X, test_X, train_y, test_y):\n    \n    print()\n    print(\"---------Dataset Summary----------\")\n    print(\"Total training samples:\", len(train_X))\n    print(\"Total training samples corresponding to class 0:\", len(train_y[train_y[:]==0]))\n    print(\"Total training samples corresponding to class 1:\", len(train_y[train_y[:]==1]))\n    print()\n    print(\"Total testing samples:\", len(test_X))\n    print(\"Total testing samples corresponding to class 0:\", len(test_y[test_y[:]==0]))\n    print(\"Total testing samples corresponding to class 1:\", len(test_y[test_y[:]==1]))\n    print(\"----------------------------------\")\n    print()",
   "execution_count": null,
   "outputs": []
  },
  {
   "cell_type": "code",
   "metadata": {
    "tags": [],
    "cell_id": "00002-a49124f4-04cc-47b3-9ec5-1abe114d4c80",
    "deepnote_to_be_reexecuted": false,
    "source_hash": "dc53d55",
    "execution_start": 1637749656970,
    "execution_millis": 1,
    "deepnote_cell_type": "code"
   },
   "source": "def oversampling(X, y):\n    print(\"doing over sampling....\")\n    oversample = RandomOverSampler(sampling_strategy='minority')\n    X_over, y_over = oversample.fit_resample(X, y)\n    return X_over, y_over",
   "execution_count": null,
   "outputs": []
  },
  {
   "cell_type": "code",
   "metadata": {
    "tags": [],
    "cell_id": "00003-91a69d79-c206-48ae-8dce-755d3a77c61d",
    "deepnote_to_be_reexecuted": false,
    "source_hash": "6801b3fe",
    "execution_start": 1637749657557,
    "execution_millis": 3,
    "deepnote_cell_type": "code"
   },
   "source": "def undersampling(X, y):\n    print(\"doing under sampling....\")\n    undersample = RandomUnderSampler(sampling_strategy='majority')\n    X_under, y_under = undersample.fit_resample(X, y)\n    return X_under, y_under",
   "execution_count": null,
   "outputs": []
  },
  {
   "cell_type": "code",
   "metadata": {
    "tags": [],
    "cell_id": "00002-43e913c9-49a9-4d69-84e0-73a771b9b063",
    "deepnote_to_be_reexecuted": false,
    "source_hash": "fdbf335f",
    "execution_start": 1637749658245,
    "execution_millis": 2,
    "deepnote_cell_type": "code"
   },
   "source": "def Sampling(X,y,strategy=\"over\"):\n    if(strategy == \"over\"):\n        return oversampling(X,y)\n    elif(strategy == \"under\"):\n         return undersampling(X,y)\n    else:\n         return X,y",
   "execution_count": null,
   "outputs": []
  },
  {
   "cell_type": "code",
   "metadata": {
    "tags": [],
    "deepnote_to_be_reexecuted": false,
    "source_hash": "185e7435",
    "execution_start": 1637749663202,
    "execution_millis": 11,
    "cell_id": "00001-921c5962-df4a-4c6a-bd97-2223aca7c5df",
    "deepnote_cell_type": "code"
   },
   "source": "#importing the data\n\ndef read_dataset(csv_file_path,isSampling=\"false\",isScaling=False ,test_size=0.2, random_state=100):\n    df = pd.read_csv(csv_file_path)\n    df = df.drop(['Amount','Time'], axis=1)\n    \n    y = df['Class']\n    X = df.drop(['Class'], axis=1)\n    \n    if isSampling != \"false\":\n        print(\"With Sampling\")\n        X,y=Sampling(X,y,isSampling)\n    else:\n        print(\"Without Sampling\")\n    \n    #random state is for reproducing the same training and testing set,if we do not use this then\n    #every time it will give different sets\n\n    #spliting the data set into training and testing set\n    train_X, test_X, train_y, test_y = train_test_split(X, y, test_size = test_size, random_state=random_state)\n    \n    if isScaling:\n        print(\"MinMax Scalling is done\")\n        #MinMax scaling\n        scaler = MinMaxScaler()\n        train_X = scaler.fit_transform(train_X)\n        test_X = scaler.transform(test_X)\n    \n    return train_X, test_X, train_y, test_y",
   "execution_count": null,
   "outputs": []
  },
  {
   "cell_type": "code",
   "metadata": {
    "tags": [],
    "deepnote_to_be_reexecuted": false,
    "source_hash": "5fbe2c96",
    "execution_start": 1637749665597,
    "execution_millis": 2,
    "cell_id": "00002-b0451c76-833a-4098-81a9-4c3b9a02b6e5",
    "deepnote_cell_type": "code"
   },
   "source": "def classifier(X_train,Y_train,X_test,cat=\"entropy\"):\n\n    #training using criteria\n    clf = RandomForestClassifier(n_estimators = 100,criterion=cat,min_samples_leaf=5)\n    clf.fit(X_train,Y_train)\n    y_pred=clf.predict(X_test)\n    \n\n    return y_pred",
   "execution_count": null,
   "outputs": []
  },
  {
   "cell_type": "code",
   "metadata": {
    "tags": [],
    "deepnote_to_be_reexecuted": false,
    "source_hash": "54d725da",
    "execution_start": 1637749666919,
    "execution_millis": 18,
    "cell_id": "00005-a9ceda3d-76de-456f-a66c-4e103a877cbf",
    "deepnote_cell_type": "code"
   },
   "source": "def evaluate(test_y,y_pred):\n    #doubt \n    #y_pred = y_pred >= 0.5\n        \n    print()\n    print(\"Classification Report:\")\n    print(classification_report(test_y, y_pred))\n        \n    cf_matrix = confusion_matrix(test_y, y_pred)\n        \n    print()\n    print(\"Confusion Matrix:\")\n    print(cf_matrix)\n    print (\"Accuracy : \",accuracy_score(test_y,y_pred)*100)\n    sns.heatmap(cf_matrix, annot=True, fmt='g')\n        \n    plt.show()",
   "execution_count": null,
   "outputs": []
  },
  {
   "cell_type": "code",
   "metadata": {
    "tags": [],
    "cell_id": "00006-2f865a70-1c50-4ff0-a5da-1112b7b122e6",
    "deepnote_to_be_reexecuted": false,
    "source_hash": "4b3f5169",
    "execution_start": 1637749669096,
    "execution_millis": 10,
    "deepnote_cell_type": "code"
   },
   "source": "def plot_roc(name, labels, predictions, **kwargs):\n  fp, tp, _ = sklearn.metrics.roc_curve(labels, predictions)\n\n  plt.plot(100*fp, 100*tp, label=name, linewidth=2, **kwargs)\n  plt.xlabel('False positives [%]')\n  plt.ylabel('True positives [%]')\n  plt.xlim([-0.5,20])\n  plt.ylim([80,100.5])\n  plt.grid(True)\n  ax = plt.gca()\n  ax.set_aspect('equal')",
   "execution_count": null,
   "outputs": []
  },
  {
   "cell_type": "code",
   "metadata": {
    "tags": [],
    "cell_id": "00006-8eb616b4-5ae8-423f-9ca1-f0b61b0bf613",
    "deepnote_to_be_reexecuted": false,
    "source_hash": "b43ac561",
    "execution_start": 1637749675574,
    "execution_millis": 5708,
    "deepnote_output_heights": [
     null,
     250
    ],
    "deepnote_cell_type": "code"
   },
   "source": "if __name__ == '__main__':\n    \n    # X,y = read_dataset('../creditcard.csv')\n\n    # for sampling of data pass True after csv file, by default it is false\n    # for scalling of data pass True after sampling \n    train_X, test_X, train_y, test_y = read_dataset(data_set,\"under\")\n    dataset_summary(train_X, test_X, train_y, test_y)\n\n    #by default entropy based classifier \n    y_predict=classifier(train_X,train_y,test_X)\n\n    #gini based classsifier\n    # y_predict=classifier(train_X,train_y,test_X,\"gini\")\n    evaluate(test_y,y_predict)\n\n    \n    ",
   "execution_count": null,
   "outputs": [
    {
     "name": "stdout",
     "text": "With Sampling\ndoing under sampling....\n\n---------Dataset Summary----------\nTotal training samples: 787\nTotal training samples corresponding to class 0: 386\nTotal training samples corresponding to class 1: 401\n\nTotal testing samples: 197\nTotal testing samples corresponding to class 0: 106\nTotal testing samples corresponding to class 1: 91\n----------------------------------\n\n\nClassification Report:\n              precision    recall  f1-score   support\n\n           0       0.91      0.98      0.95       106\n           1       0.98      0.89      0.93        91\n\n    accuracy                           0.94       197\n   macro avg       0.94      0.94      0.94       197\nweighted avg       0.94      0.94      0.94       197\n\n\nConfusion Matrix:\n[[104   2]\n [ 10  81]]\nAccuracy :  93.90862944162437\n",
     "output_type": "stream"
    },
    {
     "data": {
      "text/plain": "<Figure size 432x288 with 2 Axes>",
      "image/png": "[encoded data removed]"
     },
     "metadata": {
      "needs_background": "light",
      "image/png": {
       "width": 352,
       "height": 248
      }
     },
     "output_type": "display_data"
    }
   ]
  },
  {
   "cell_type": "code",
   "metadata": {
    "tags": [],
    "cell_id": "00008-4bdc0439-9c0b-4603-b09e-88a93dc1e0dc",
    "deepnote_to_be_reexecuted": false,
    "source_hash": "ab5277c6",
    "execution_start": 1637745084590,
    "execution_millis": 495266,
    "deepnote_output_heights": [
     null,
     250
    ],
    "deepnote_cell_type": "code"
   },
   "source": "if __name__ == '__main__':\n    \n    # X,y = read_dataset('../creditcard.csv')\n\n    # for sampling of data pass True after csv file, by default it is false\n    # for scalling of data pass True after sampling \n    train_X, test_X, train_y, test_y = read_dataset(data_set,\"over\")\n    dataset_summary(train_X, test_X, train_y, test_y)\n\n    #by default entropy based classifier \n    y_predict=classifier(train_X,train_y,test_X)\n\n    #gini based classsifier\n    # y_predict=classifier(train_X,train_y,test_X,\"gini\")\n    evaluate(test_y,y_predict)",
   "execution_count": null,
   "outputs": [
    {
     "name": "stdout",
     "text": "With Sampling\ndoing over sampling....\n\n---------Dataset Summary----------\nTotal training samples: 454904\nTotal training samples corresponding to class 0: 227735\nTotal training samples corresponding to class 1: 227169\n\nTotal testing samples: 113726\nTotal testing samples corresponding to class 0: 56580\nTotal testing samples corresponding to class 1: 57146\n----------------------------------\n\n\nClassification Report:\n              precision    recall  f1-score   support\n\n           0       1.00      1.00      1.00     56580\n           1       1.00      1.00      1.00     57146\n\n    accuracy                           1.00    113726\n   macro avg       1.00      1.00      1.00    113726\nweighted avg       1.00      1.00      1.00    113726\n\n\nConfusion Matrix:\n[[56566    14]\n [    0 57146]]\nAccuracy :  99.98768971035648\n",
     "output_type": "stream"
    },
    {
     "data": {
      "text/plain": "<Figure size 432x288 with 2 Axes>",
      "image/png": "[encoded data removed]"
     },
     "metadata": {
      "needs_background": "light",
      "image/png": {
       "width": 365,
       "height": 248
      }
     },
     "output_type": "display_data"
    }
   ]
  },
  {
   "cell_type": "code",
   "metadata": {
    "tags": [],
    "cell_id": "00011-a11ab4e4-2d16-4e11-90ee-c1dc5b737d50",
    "deepnote_to_be_reexecuted": false,
    "source_hash": "37a9f1e1",
    "execution_start": 1637745579860,
    "execution_millis": 371201,
    "deepnote_output_heights": [
     null,
     250
    ],
    "deepnote_cell_type": "code"
   },
   "source": "if __name__ == '__main__':\n    \n    # X,y = read_dataset('../creditcard.csv')\n\n    # for sampling of data pass True after csv file, by default it is false\n    # for scalling of data pass True after sampling \n    train_X, test_X, train_y, test_y = read_dataset(data_set,\"false\")\n    dataset_summary(train_X, test_X, train_y, test_y)\n\n    #by default entropy based classifier \n    y_predict=classifier(train_X,train_y,test_X)\n\n    #gini based classsifier\n    # y_predict=classifier(train_X,train_y,test_X,\"gini\")\n    evaluate(test_y,y_predict)",
   "execution_count": null,
   "outputs": [
    {
     "name": "stdout",
     "text": "Without Sampling\n\n---------Dataset Summary----------\nTotal training samples: 227845\nTotal training samples corresponding to class 0: 227449\nTotal training samples corresponding to class 1: 396\n\nTotal testing samples: 56962\nTotal testing samples corresponding to class 0: 56866\nTotal testing samples corresponding to class 1: 96\n----------------------------------\n\n\nClassification Report:\n              precision    recall  f1-score   support\n\n           0       1.00      1.00      1.00     56866\n           1       0.82      0.71      0.76        96\n\n    accuracy                           1.00     56962\n   macro avg       0.91      0.85      0.88     56962\nweighted avg       1.00      1.00      1.00     56962\n\n\nConfusion Matrix:\n[[56851    15]\n [   28    68]]\nAccuracy :  99.92451107756047\n",
     "output_type": "stream"
    },
    {
     "data": {
      "text/plain": "<Figure size 432x288 with 2 Axes>",
      "image/png": "[encoded data removed]"
     },
     "metadata": {
      "needs_background": "light",
      "image/png": {
       "width": 365,
       "height": 248
      }
     },
     "output_type": "display_data"
    }
   ]
  },
  {
   "cell_type": "code",
   "metadata": {
    "tags": [],
    "cell_id": "00012-b106982e-688c-44bb-944e-e305fa3df762",
    "deepnote_cell_type": "code"
   },
   "source": "",
   "execution_count": null,
   "outputs": []
  },
  {
   "cell_type": "markdown",
   "source": "<a style='text-decoration:none;line-height:16px;display:flex;color:#5B5B62;padding:10px;justify-content:end;' href='https://deepnote.com?utm_source=created-in-deepnote-cell&projectId=920001f5-8a05-4b55-92fa-5a8f292e2307' target=\"_blank\">\n<img alt='Created in deepnote.com' style='display:inline;max-height:16px;margin:0px;margin-right:7.5px;' src='data:image/svg+xml;base64,PD94bWwgdmVyc2lvbj0iMS4wIiBlbmNvZGluZz0iVVRGLTgiPz4KPHN2ZyB3aWR0aD0iODBweCIgaGVpZ2h0PSI4MHB4IiB2aWV3Qm94PSIwIDAgODAgODAiIHZlcnNpb249IjEuMSIgeG1sbnM9Imh0dHA6Ly93d3cudzMub3JnLzIwMDAvc3ZnIiB4bWxuczp4bGluaz0iaHR0cDovL3d3dy53My5vcmcvMTk5OS94bGluayI+CiAgICA8IS0tIEdlbmVyYXRvcjogU2tldGNoIDU0LjEgKDc2NDkwKSAtIGh0dHBzOi8vc2tldGNoYXBwLmNvbSAtLT4KICAgIDx0aXRsZT5Hcm91cCAzPC90aXRsZT4KICAgIDxkZXNjPkNyZWF0ZWQgd2l0aCBTa2V0Y2guPC9kZXNjPgogICAgPGcgaWQ9IkxhbmRpbmciIHN0cm9rZT0ibm9uZSIgc3Ryb2tlLXdpZHRoPSIxIiBmaWxsPSJub25lIiBmaWxsLXJ1bGU9ImV2ZW5vZGQiPgogICAgICAgIDxnIGlkPSJBcnRib2FyZCIgdHJhbnNmb3JtPSJ0cmFuc2xhdGUoLTEyMzUuMDAwMDAwLCAtNzkuMDAwMDAwKSI+CiAgICAgICAgICAgIDxnIGlkPSJHcm91cC0zIiB0cmFuc2Zvcm09InRyYW5zbGF0ZSgxMjM1LjAwMDAwMCwgNzkuMDAwMDAwKSI+CiAgICAgICAgICAgICAgICA8cG9seWdvbiBpZD0iUGF0aC0yMCIgZmlsbD0iIzAyNjVCNCIgcG9pbnRzPSIyLjM3NjIzNzYyIDgwIDM4LjA0NzY2NjcgODAgNTcuODIxNzgyMiA3My44MDU3NTkyIDU3LjgyMTc4MjIgMzIuNzU5MjczOSAzOS4xNDAyMjc4IDMxLjY4MzE2ODMiPjwvcG9seWdvbj4KICAgICAgICAgICAgICAgIDxwYXRoIGQ9Ik0zNS4wMDc3MTgsODAgQzQyLjkwNjIwMDcsNzYuNDU0OTM1OCA0Ny41NjQ5MTY3LDcxLjU0MjI2NzEgNDguOTgzODY2LDY1LjI2MTk5MzkgQzUxLjExMjI4OTksNTUuODQxNTg0MiA0MS42NzcxNzk1LDQ5LjIxMjIyODQgMjUuNjIzOTg0Niw0OS4yMTIyMjg0IEMyNS40ODQ5Mjg5LDQ5LjEyNjg0NDggMjkuODI2MTI5Niw0My4yODM4MjQ4IDM4LjY0NzU4NjksMzEuNjgzMTY4MyBMNzIuODcxMjg3MSwzMi41NTQ0MjUgTDY1LjI4MDk3Myw2Ny42NzYzNDIxIEw1MS4xMTIyODk5LDc3LjM3NjE0NCBMMzUuMDA3NzE4LDgwIFoiIGlkPSJQYXRoLTIyIiBmaWxsPSIjMDAyODY4Ij48L3BhdGg+CiAgICAgICAgICAgICAgICA8cGF0aCBkPSJNMCwzNy43MzA0NDA1IEwyNy4xMTQ1MzcsMC4yNTcxMTE0MzYgQzYyLjM3MTUxMjMsLTEuOTkwNzE3MDEgODAsMTAuNTAwMzkyNyA4MCwzNy43MzA0NDA1IEM4MCw2NC45NjA0ODgyIDY0Ljc3NjUwMzgsNzkuMDUwMzQxNCAzNC4zMjk1MTEzLDgwIEM0Ny4wNTUzNDg5LDc3LjU2NzA4MDggNTMuNDE4MjY3Nyw3MC4zMTM2MTAzIDUzLjQxODI2NzcsNTguMjM5NTg4NSBDNTMuNDE4MjY3Nyw0MC4xMjg1NTU3IDM2LjMwMzk1NDQsMzcuNzMwNDQwNSAyNS4yMjc0MTcsMzcuNzMwNDQwNSBDMTcuODQzMDU4NiwzNy43MzA0NDA1IDkuNDMzOTE5NjYsMzcuNzMwNDQwNSAwLDM3LjczMDQ0MDUgWiIgaWQ9IlBhdGgtMTkiIGZpbGw9IiMzNzkzRUYiPjwvcGF0aD4KICAgICAgICAgICAgPC9nPgogICAgICAgIDwvZz4KICAgIDwvZz4KPC9zdmc+' > </img>\nCreated in <span style='font-weight:600;margin-left:4px;'>Deepnote</span></a>",
   "metadata": {
    "tags": [],
    "created_in_deepnote_cell": true,
    "deepnote_cell_type": "markdown"
   }
  }
 ],
 "nbformat": 4,
 "nbformat_minor": 2,
 "metadata": {
  "orig_nbformat": 2,
  "deepnote": {
   "is_reactive": false
  },
  "deepnote_notebook_id": "954dd429-e7d3-4360-ae14-ef290c6c0c3e",
  "deepnote_execution_queue": []
 }
}