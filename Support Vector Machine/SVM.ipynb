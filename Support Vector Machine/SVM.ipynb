{
 "cells": [
  {
   "cell_type": "code",
   "metadata": {
    "tags": [],
    "deepnote_to_be_reexecuted": false,
    "source_hash": "d4a73a21",
    "execution_start": 1637827076027,
    "execution_millis": 2385,
    "cell_id": "00001-119962a2-106b-42f8-bf1f-856adec59685",
    "deepnote_cell_type": "code"
   },
   "source": "import sklearn\nimport numpy as np\nimport pandas as pd\nimport seaborn as sns\nimport matplotlib.pyplot as plt\nfrom sklearn.model_selection import train_test_split\nfrom sklearn import svm\nfrom sklearn.metrics import confusion_matrix,accuracy_score,classification_report\nimport scikitplot as skplt\nfrom sklearn.preprocessing import StandardScaler, RobustScaler\nfrom imblearn.over_sampling import RandomOverSampler\nfrom imblearn.under_sampling import RandomUnderSampler\nfrom sklearn.preprocessing import MinMaxScaler\nfrom imblearn.over_sampling import SMOTE\nfrom imblearn.under_sampling import RandomUnderSampler\nfrom imblearn.pipeline import Pipeline\ndata_set='/work/creditcard.csv'\ncolors = plt.rcParams['axes.prop_cycle'].by_key()['color']",
   "outputs": [],
   "execution_count": null
  },
  {
   "cell_type": "code",
   "metadata": {
    "tags": [],
    "deepnote_to_be_reexecuted": false,
    "source_hash": "aab02517",
    "execution_start": 1637747360646,
    "execution_millis": 2,
    "cell_id": "00002-2c689d83-9b56-4c66-bc07-45dd9e7bcb9f",
    "deepnote_cell_type": "code"
   },
   "source": "def dataset_summary(train_X, test_X, train_y, test_y):\n    print()\n    print(\"---------Dataset Summary----------\")\n    print(\"Total training samples:\", len(train_X))\n    print(\"Total training samples corresponding to class 0:\", len(train_y[train_y[:]==0]))\n    print(\"Total training samples corresponding to class 1:\", len(train_y[train_y[:]==1]))\n    print()\n    print(\"Total testing samples:\", len(test_X))\n    print(\"Total testing samples corresponding to class 0:\", len(test_y[test_y[:]==0]))\n    print(\"Total testing samples corresponding to class 1:\", len(test_y[test_y[:]==1]))\n    print(\"----------------------------------\")\n    print()",
   "execution_count": null,
   "outputs": []
  },
  {
   "cell_type": "code",
   "metadata": {
    "tags": [],
    "deepnote_to_be_reexecuted": false,
    "source_hash": "472d7440",
    "execution_start": 1637747363369,
    "execution_millis": 0,
    "cell_id": "00003-988107bb-60d5-4178-a684-88b6f5b22d22",
    "deepnote_cell_type": "code"
   },
   "source": "# MODELING(SVM with Scikit-learn)\ndef SVM_model(X_train,y_train, test_X):\n    classifier = svm.SVC(kernel='linear', gamma='auto', C=2)\n    classifier.fit(X_train, y_train)\n    y_predict = classifier.predict(test_X)\n    return y_predict",
   "execution_count": null,
   "outputs": []
  },
  {
   "cell_type": "code",
   "metadata": {
    "tags": [],
    "cell_id": "00003-5e3fdce4-154e-4510-bdcc-611213d3d44c",
    "deepnote_to_be_reexecuted": false,
    "source_hash": "dc53d55",
    "execution_start": 1637747365412,
    "execution_millis": 4,
    "deepnote_cell_type": "code"
   },
   "source": "def oversampling(X, y):\n    print(\"doing over sampling....\")\n    oversample = RandomOverSampler(sampling_strategy='minority')\n    X_over, y_over = oversample.fit_resample(X, y)\n    return X_over, y_over",
   "execution_count": null,
   "outputs": []
  },
  {
   "cell_type": "code",
   "metadata": {
    "tags": [],
    "cell_id": "00004-8084e9bd-ad86-4473-a61a-d84c742393d1",
    "deepnote_to_be_reexecuted": false,
    "source_hash": "6801b3fe",
    "execution_start": 1637747368042,
    "execution_millis": 2,
    "deepnote_cell_type": "code"
   },
   "source": "def undersampling(X, y):\n    print(\"doing under sampling....\")\n    undersample = RandomUnderSampler(sampling_strategy='majority')\n    X_under, y_under = undersample.fit_resample(X, y)\n    return X_under, y_under",
   "execution_count": null,
   "outputs": []
  },
  {
   "cell_type": "code",
   "metadata": {
    "tags": [],
    "deepnote_to_be_reexecuted": false,
    "source_hash": "fdbf335f",
    "execution_start": 1637747369243,
    "execution_millis": 2,
    "cell_id": "00004-d6ae0401-3887-426f-be78-d33cc742e7f1",
    "deepnote_cell_type": "code"
   },
   "source": "def Sampling(X,y,strategy=\"over\"):\n    if(strategy == \"over\"):\n        return oversampling(X,y)\n    elif(strategy == \"under\"):\n         return undersampling(X,y)\n    else:\n         return X,y",
   "execution_count": null,
   "outputs": []
  },
  {
   "cell_type": "code",
   "metadata": {
    "tags": [],
    "deepnote_to_be_reexecuted": false,
    "source_hash": "f4df7579",
    "execution_start": 1637747372379,
    "execution_millis": 8,
    "cell_id": "00005-e71160b9-5327-4e22-9a02-918bbd21ac33",
    "deepnote_cell_type": "code"
   },
   "source": "def evaluate(test_y, y_pred): \n    #doubt \n    #y_pred = y_pred >= 0.5\n        \n    print()\n    print(\"Classification Report:\")\n    print(classification_report(test_y, y_pred))\n        \n    cf_matrix = confusion_matrix(test_y, y_pred)\n        \n    print()\n    print(\"Confusion Matrix:\")\n    print(cf_matrix)\n    print (\"Accuracy : \",accuracy_score(test_y,y_pred)*100)\n    sns.heatmap(cf_matrix, annot=True, fmt='g')\n        \n    plt.show()",
   "execution_count": null,
   "outputs": []
  },
  {
   "cell_type": "code",
   "metadata": {
    "tags": [],
    "deepnote_to_be_reexecuted": false,
    "source_hash": "2ec2eed6",
    "execution_start": 1637747462627,
    "execution_millis": 0,
    "cell_id": "00006-0e4857ca-db8c-41fb-bce2-6a3039926ed7",
    "deepnote_cell_type": "code"
   },
   "source": "#importing the data\n\ndef read_dataset(csv_file_path,isSampling=False,isScaling=False ,test_size=0.2, random_state=100):\n    df = pd.read_csv(csv_file_path)\n    df = df.drop(['Amount','Time'], axis=1)\n    \n    y = df['Class']\n    X = df.drop(['Class'], axis=1)\n    \n    if isSampling:\n        print(\"With Sampling\")\n        X,y=Sampling(X,y)\n    else:\n        print(\"Without Sampling\")\n    \n    #random state is for reproducing the same training and testing set,if we do not use this then\n    #every time it will give different sets\n\n    #spliting the data set into training and testing set\n    train_X, test_X, train_y, test_y = train_test_split(X, y, test_size = test_size, random_state=random_state)\n    \n    if isScaling:\n        print(\"MinMax Scalling is done\")\n        #MinMax scaling\n        scaler = MinMaxScaler()\n        train_X = scaler.fit_transform(train_X)\n        test_X = scaler.transform(test_X)\n    \n    return train_X, test_X, train_y, test_y",
   "execution_count": null,
   "outputs": []
  },
  {
   "cell_type": "code",
   "metadata": {
    "tags": [],
    "cell_id": "00007-29ea4da2-7ea4-4c29-8a9f-95af3cbfb456",
    "deepnote_to_be_reexecuted": false,
    "source_hash": "4b3f5169",
    "execution_start": 1637595895112,
    "execution_millis": 18,
    "deepnote_cell_type": "code"
   },
   "source": "",
   "execution_count": null,
   "outputs": []
  },
  {
   "cell_type": "code",
   "metadata": {
    "tags": [],
    "deepnote_to_be_reexecuted": false,
    "source_hash": "14cd51c3",
    "execution_start": 1637747380125,
    "execution_millis": 3342,
    "cell_id": "00007-f40e3168-6967-4f16-a378-92da504ae8d7",
    "deepnote_output_heights": [
     null,
     250
    ],
    "deepnote_cell_type": "code"
   },
   "source": "if __name__ == '__main__':\n    \n    # train_X, test_X, train_y, test_y = read_dataset(\"creditcard.csv\")\n    \n     train_X, test_X, train_y, test_y = read_dataset(data_set,True)\n     dataset_summary(train_X, test_X, train_y, test_y)\n    \n    # checkpoint_path = \"checkpoints/cp-{epoch:04d}.ckpt\"\n    # checkpoint_dir = os.path.dirname(checkpoint_path)\n    \n     y_predict = SVM_model(train_X, train_y, test_X)\n\n     evaluate(test_y, y_predict)\n\n    #model.train(batch_size=16, epochs=4, checkpoint_path=checkpoint_path)\n    # model.load(checkpoint_dir)\n    #model.evaluate()\n     '''\n    ####################### Just for testing###############\n     plot_roc(\"Train Baseline\", train_X, train_y, color=colors[0])\n     plot_roc(\"Test Baseline\", test_X, test_y, color=colors[0], linestyle='--')\n     plt.legend(loc='lower right')\n     '''",
   "execution_count": null,
   "outputs": [
    {
     "name": "stdout",
     "text": "With Sampling\ndoing under sampling....\n\n---------Dataset Summary----------\nTotal training samples: 787\nTotal training samples corresponding to class 0: 386\nTotal training samples corresponding to class 1: 401\n\nTotal testing samples: 197\nTotal testing samples corresponding to class 0: 106\nTotal testing samples corresponding to class 1: 91\n----------------------------------\n\n\nClassification Report:\n              precision    recall  f1-score   support\n\n           0       0.90      0.97      0.94       106\n           1       0.96      0.88      0.92        91\n\n    accuracy                           0.93       197\n   macro avg       0.93      0.93      0.93       197\nweighted avg       0.93      0.93      0.93       197\n\n\nConfusion Matrix:\n[[103   3]\n [ 11  80]]\nAccuracy :  92.89340101522842\n",
     "output_type": "stream"
    },
    {
     "data": {
      "text/plain": "<Figure size 432x288 with 2 Axes>",
      "image/png": "[encoded data removed]"
     },
     "metadata": {
      "needs_background": "light",
      "image/png": {
       "width": 352,
       "height": 248
      }
     },
     "output_type": "display_data"
    }
   ]
  },
  {
   "cell_type": "markdown",
   "source": "<a style='text-decoration:none;line-height:16px;display:flex;color:#5B5B62;padding:10px;justify-content:end;' href='https://deepnote.com?utm_source=created-in-deepnote-cell&projectId=920001f5-8a05-4b55-92fa-5a8f292e2307' target=\"_blank\">\n<img alt='Created in deepnote.com' style='display:inline;max-height:16px;margin:0px;margin-right:7.5px;' src='data:image/svg+xml;base64,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' > </img>\nCreated in <span style='font-weight:600;margin-left:4px;'>Deepnote</span></a>",
   "metadata": {
    "tags": [],
    "created_in_deepnote_cell": true,
    "deepnote_cell_type": "markdown"
   }
  }
 ],
 "nbformat": 4,
 "nbformat_minor": 2,
 "metadata": {
  "orig_nbformat": 2,
  "deepnote": {
   "is_reactive": false
  },
  "deepnote_notebook_id": "26cfa719-97f9-46ec-96d4-3a5ef8f62334",
  "deepnote_execution_queue": []
 }
}